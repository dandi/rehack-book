{
 "cells": [
  {
   "cell_type": "markdown",
   "id": "e10b90f8",
   "metadata": {},
   "source": [
    "# Dandiset Manifest\n",
    "### This notebook shows all of the assets within this dandiset, organized by their transgenic lines and recording locations"
   ]
  },
  {
   "cell_type": "code",
   "execution_count": 1,
   "id": "489c926e",
   "metadata": {},
   "outputs": [],
   "source": [
    "from dandi.dandiapi import DandiAPIClient"
   ]
  },
  {
   "cell_type": "code",
   "execution_count": 2,
   "id": "0e404bfe",
   "metadata": {},
   "outputs": [],
   "source": [
    "import numpy as np\n",
    "import pandas as pd\n",
    "import pynwb\n",
    "from tqdm import tqdm\n",
    "from joblib import Parallel, delayed\n",
    "\n",
    "import warnings"
   ]
  },
  {
   "cell_type": "code",
   "execution_count": 3,
   "id": "a14f9814",
   "metadata": {},
   "outputs": [],
   "source": [
    "dandiset_id = '000039'"
   ]
  },
  {
   "cell_type": "code",
   "execution_count": 4,
   "id": "078cb31d",
   "metadata": {},
   "outputs": [],
   "source": [
    "client = DandiAPIClient()\n",
    "dandisets = list(client.get_dandisets())"
   ]
  },
  {
   "cell_type": "code",
   "execution_count": 5,
   "id": "543fb11b",
   "metadata": {},
   "outputs": [],
   "source": [
    "ds = client.get_dandiset(dandiset_id)"
   ]
  },
  {
   "cell_type": "code",
   "execution_count": 6,
   "id": "2b652376",
   "metadata": {},
   "outputs": [
    {
     "name": "stderr",
     "output_type": "stream",
     "text": [
      "\r",
      "  0%|          | 0/100 [00:00<?, ?it/s]"
     ]
    },
    {
     "name": "stderr",
     "output_type": "stream",
     "text": [
      "\r",
      " 10%|█         | 10/100 [00:00<00:02, 32.21it/s]"
     ]
    },
    {
     "name": "stderr",
     "output_type": "stream",
     "text": [
      "\r",
      " 10%|█         | 10/100 [00:19<00:02, 32.21it/s]"
     ]
    },
    {
     "name": "stderr",
     "output_type": "stream",
     "text": [
      "\r",
      " 20%|██        | 20/100 [00:25<01:58,  1.48s/it]"
     ]
    },
    {
     "name": "stderr",
     "output_type": "stream",
     "text": [
      "\r",
      " 30%|███       | 30/100 [00:50<02:17,  1.96s/it]"
     ]
    },
    {
     "name": "stderr",
     "output_type": "stream",
     "text": [
      "\r",
      " 40%|████      | 40/100 [01:08<01:52,  1.88s/it]"
     ]
    },
    {
     "name": "stderr",
     "output_type": "stream",
     "text": [
      "\r",
      " 50%|█████     | 50/100 [01:28<01:36,  1.92s/it]"
     ]
    },
    {
     "name": "stderr",
     "output_type": "stream",
     "text": [
      "\r",
      " 60%|██████    | 60/100 [01:46<01:15,  1.88s/it]"
     ]
    },
    {
     "name": "stderr",
     "output_type": "stream",
     "text": [
      "\r",
      " 70%|███████   | 70/100 [02:04<00:56,  1.88s/it]"
     ]
    },
    {
     "name": "stderr",
     "output_type": "stream",
     "text": [
      "\r",
      " 80%|████████  | 80/100 [02:25<00:38,  1.93s/it]"
     ]
    },
    {
     "name": "stderr",
     "output_type": "stream",
     "text": [
      "\r",
      " 90%|█████████ | 90/100 [02:45<00:19,  1.98s/it]"
     ]
    },
    {
     "name": "stderr",
     "output_type": "stream",
     "text": [
      "\r",
      "100%|██████████| 100/100 [03:05<00:00,  1.97s/it]"
     ]
    },
    {
     "name": "stderr",
     "output_type": "stream",
     "text": [
      "\r",
      "100%|██████████| 100/100 [03:05<00:00,  1.85s/it]"
     ]
    },
    {
     "name": "stderr",
     "output_type": "stream",
     "text": [
      "\n"
     ]
    }
   ],
   "source": [
    "asset_list = list(ds.get_assets())\n",
    "number_assets = len(asset_list)\n",
    "manifest = pd.DataFrame(columns=('session_id','specimen_id','genotype','area','imaging_depth','sex','age','path','date'), \n",
    "                        index=range(number_assets))\n",
    "\n",
    "def to_struct(asset):\n",
    "    manifest = {}\n",
    "    md = asset.get_raw_metadata()\n",
    "    manifest['session_id'] = md['wasGeneratedBy'][0]['identifier']\n",
    "    manifest['specimen_id'] = md['wasAttributedTo'][0]['identifier']\n",
    "    manifest['genotype'] = md['wasAttributedTo'][0]['genotype']\n",
    "    manifest['sex'] = md['wasAttributedTo'][0]['sex']['name']\n",
    "    manifest['age'] = md['wasAttributedTo'][0]['age']['value']\n",
    "    manifest['path'] = md['path']\n",
    "    manifest['date'] = md['wasGeneratedBy'][0]['startDate']\n",
    "    \n",
    "    path = md['path']\n",
    "    s3_url = asset.get_content_url(regex='s3')\n",
    "    with warnings.catch_warnings():\n",
    "        warnings.simplefilter(\"ignore\")\n",
    "        io = pynwb.NWBHDF5IO(s3_url, mode='r', load_namespaces=True, driver='ros3')\n",
    "        nwbfile = io.read()\n",
    "    location = nwbfile.imaging_planes['imaging_plane_1'].location\n",
    "    manifest['area'] = location.split(',')[0].split((' '))[1]\n",
    "    manifest['imaging_depth'] = location.split(',')[1].split((' '))[1]\n",
    "    return manifest\n",
    "\n",
    "result = Parallel(n_jobs=10)(delayed(to_struct)(asset_list[i]) for i in tqdm(range(number_assets)))"
   ]
  },
  {
   "cell_type": "code",
   "execution_count": 7,
   "id": "17e4e370",
   "metadata": {},
   "outputs": [],
   "source": [
    "manifest = pd.DataFrame(result)"
   ]
  },
  {
   "cell_type": "code",
   "execution_count": 8,
   "id": "fe9f81cd",
   "metadata": {},
   "outputs": [
    {
     "data": {
      "text/html": [
       "<div>\n",
       "<style scoped>\n",
       "    .dataframe tbody tr th:only-of-type {\n",
       "        vertical-align: middle;\n",
       "    }\n",
       "\n",
       "    .dataframe tbody tr th {\n",
       "        vertical-align: top;\n",
       "    }\n",
       "\n",
       "    .dataframe thead th {\n",
       "        text-align: right;\n",
       "    }\n",
       "</style>\n",
       "<table border=\"1\" class=\"dataframe\">\n",
       "  <thead>\n",
       "    <tr style=\"text-align: right;\">\n",
       "      <th></th>\n",
       "      <th>session_id</th>\n",
       "      <th>specimen_id</th>\n",
       "      <th>genotype</th>\n",
       "      <th>sex</th>\n",
       "      <th>age</th>\n",
       "      <th>path</th>\n",
       "      <th>date</th>\n",
       "      <th>area</th>\n",
       "      <th>imaging_depth</th>\n",
       "    </tr>\n",
       "  </thead>\n",
       "  <tbody>\n",
       "    <tr>\n",
       "      <th>0</th>\n",
       "      <td>698273664</td>\n",
       "      <td>673647168</td>\n",
       "      <td>Vip-IRES-Cre/wt;Ai148(TIT2L-GC6f-ICL-tTA2)/wt</td>\n",
       "      <td>Male</td>\n",
       "      <td>P128D</td>\n",
       "      <td>sub-673647168/sub-673647168_ses-698273664_beha...</td>\n",
       "      <td>2018-05-16T15:18:38.587000-07:00</td>\n",
       "      <td>VISp</td>\n",
       "      <td>175</td>\n",
       "    </tr>\n",
       "    <tr>\n",
       "      <th>1</th>\n",
       "      <td>792319003</td>\n",
       "      <td>760940732</td>\n",
       "      <td>Sst-IRES-Cre/wt;Ai148(TIT2L-GC6f-ICL-tTA2)/wt</td>\n",
       "      <td>Female</td>\n",
       "      <td>P136D</td>\n",
       "      <td>sub-760940732/sub-760940732_ses-792319003_beha...</td>\n",
       "      <td>2018-12-10T16:37:40.325000-08:00</td>\n",
       "      <td>VISp</td>\n",
       "      <td>275</td>\n",
       "    </tr>\n",
       "    <tr>\n",
       "      <th>2</th>\n",
       "      <td>791556785</td>\n",
       "      <td>760940732</td>\n",
       "      <td>Sst-IRES-Cre/wt;Ai148(TIT2L-GC6f-ICL-tTA2)/wt</td>\n",
       "      <td>Female</td>\n",
       "      <td>P136D</td>\n",
       "      <td>sub-760940732/sub-760940732_ses-791556785_beha...</td>\n",
       "      <td>2018-12-07T16:38:34.105000-08:00</td>\n",
       "      <td>VISp</td>\n",
       "      <td>275</td>\n",
       "    </tr>\n",
       "    <tr>\n",
       "      <th>3</th>\n",
       "      <td>791125374</td>\n",
       "      <td>760940732</td>\n",
       "      <td>Sst-IRES-Cre/wt;Ai148(TIT2L-GC6f-ICL-tTA2)/wt</td>\n",
       "      <td>Female</td>\n",
       "      <td>P136D</td>\n",
       "      <td>sub-760940732/sub-760940732_ses-791125374_beha...</td>\n",
       "      <td>2018-12-06T16:40:45.901000-08:00</td>\n",
       "      <td>VISal</td>\n",
       "      <td>275</td>\n",
       "    </tr>\n",
       "    <tr>\n",
       "      <th>4</th>\n",
       "      <td>793874958</td>\n",
       "      <td>760940732</td>\n",
       "      <td>Sst-IRES-Cre/wt;Ai148(TIT2L-GC6f-ICL-tTA2)/wt</td>\n",
       "      <td>Female</td>\n",
       "      <td>P136D</td>\n",
       "      <td>sub-760940732/sub-760940732_ses-793874958_beha...</td>\n",
       "      <td>2018-12-12T16:37:43.216000-08:00</td>\n",
       "      <td>VISl</td>\n",
       "      <td>275</td>\n",
       "    </tr>\n",
       "  </tbody>\n",
       "</table>\n",
       "</div>"
      ],
      "text/plain": [
       "  session_id specimen_id                                       genotype  \\\n",
       "0  698273664   673647168  Vip-IRES-Cre/wt;Ai148(TIT2L-GC6f-ICL-tTA2)/wt   \n",
       "1  792319003   760940732  Sst-IRES-Cre/wt;Ai148(TIT2L-GC6f-ICL-tTA2)/wt   \n",
       "2  791556785   760940732  Sst-IRES-Cre/wt;Ai148(TIT2L-GC6f-ICL-tTA2)/wt   \n",
       "3  791125374   760940732  Sst-IRES-Cre/wt;Ai148(TIT2L-GC6f-ICL-tTA2)/wt   \n",
       "4  793874958   760940732  Sst-IRES-Cre/wt;Ai148(TIT2L-GC6f-ICL-tTA2)/wt   \n",
       "\n",
       "      sex    age                                               path  \\\n",
       "0    Male  P128D  sub-673647168/sub-673647168_ses-698273664_beha...   \n",
       "1  Female  P136D  sub-760940732/sub-760940732_ses-792319003_beha...   \n",
       "2  Female  P136D  sub-760940732/sub-760940732_ses-791556785_beha...   \n",
       "3  Female  P136D  sub-760940732/sub-760940732_ses-791125374_beha...   \n",
       "4  Female  P136D  sub-760940732/sub-760940732_ses-793874958_beha...   \n",
       "\n",
       "                               date   area imaging_depth  \n",
       "0  2018-05-16T15:18:38.587000-07:00   VISp           175  \n",
       "1  2018-12-10T16:37:40.325000-08:00   VISp           275  \n",
       "2  2018-12-07T16:38:34.105000-08:00   VISp           275  \n",
       "3  2018-12-06T16:40:45.901000-08:00  VISal           275  \n",
       "4  2018-12-12T16:37:43.216000-08:00   VISl           275  "
      ]
     },
     "execution_count": 8,
     "metadata": {},
     "output_type": "execute_result"
    }
   ],
   "source": [
    "manifest.head()"
   ]
  },
  {
   "cell_type": "markdown",
   "id": "9278bb1a",
   "metadata": {},
   "source": [
    "This dataframe has a row for each asset, describing some key metadata about the animal and recording location. We can explore the dataframe to identify assets by genotype, recording location (i.e. area), or other parameters, and find the path for each asset."
   ]
  },
  {
   "cell_type": "code",
   "execution_count": 9,
   "id": "4a851a28",
   "metadata": {},
   "outputs": [
    {
     "data": {
      "text/plain": [
       "array(['Vip-IRES-Cre/wt;Ai148(TIT2L-GC6f-ICL-tTA2)/wt',\n",
       "       'Sst-IRES-Cre/wt;Ai148(TIT2L-GC6f-ICL-tTA2)/wt',\n",
       "       'Cux2-CreERT2/wt;Camk2a-tTA/wt;Ai93(TITL-GCaMP6f)/wt',\n",
       "       'Rbp4-Cre_KL100/wt;Camk2a-tTA/wt;Ai93(TITL-GCaMP6f)/wt',\n",
       "       'Rorb-IRES2-Cre/wt;Camk2a-tTA/wt;Ai93(TITL-GCaMP6f)/wt',\n",
       "       'Cux2-CreERT2/wt;Camk2a-CreERT2/wt;Ai93(TITL-GCaMP6f)/wt',\n",
       "       'Ntsr1-Cre_GN220/wt;Ai148(TIT2L-GC6f-ICL-tTA2)/wt'], dtype=object)"
      ]
     },
     "execution_count": 9,
     "metadata": {},
     "output_type": "execute_result"
    }
   ],
   "source": [
    "manifest.genotype.unique()"
   ]
  },
  {
   "cell_type": "code",
   "execution_count": 10,
   "id": "7678f5be",
   "metadata": {},
   "outputs": [
    {
     "data": {
      "text/plain": [
       "array(['VISp', 'VISal', 'VISl', 'VISpm', 'VISam', 'VISrl'], dtype=object)"
      ]
     },
     "execution_count": 10,
     "metadata": {},
     "output_type": "execute_result"
    }
   ],
   "source": [
    "manifest.area.unique()"
   ]
  },
  {
   "cell_type": "code",
   "execution_count": 11,
   "id": "8f514214",
   "metadata": {},
   "outputs": [
    {
     "data": {
      "text/plain": [
       "64"
      ]
     },
     "execution_count": 11,
     "metadata": {},
     "output_type": "execute_result"
    }
   ],
   "source": [
    "len(manifest[manifest.sex=='Female'])"
   ]
  },
  {
   "cell_type": "code",
   "execution_count": 12,
   "id": "5635cf44",
   "metadata": {},
   "outputs": [
    {
     "data": {
      "text/html": [
       "<div>\n",
       "<style scoped>\n",
       "    .dataframe tbody tr th:only-of-type {\n",
       "        vertical-align: middle;\n",
       "    }\n",
       "\n",
       "    .dataframe tbody tr th {\n",
       "        vertical-align: top;\n",
       "    }\n",
       "\n",
       "    .dataframe thead tr th {\n",
       "        text-align: left;\n",
       "    }\n",
       "\n",
       "    .dataframe thead tr:last-of-type th {\n",
       "        text-align: right;\n",
       "    }\n",
       "</style>\n",
       "<table border=\"1\" class=\"dataframe\">\n",
       "  <thead>\n",
       "    <tr>\n",
       "      <th></th>\n",
       "      <th colspan=\"6\" halign=\"left\">path</th>\n",
       "    </tr>\n",
       "    <tr>\n",
       "      <th>area</th>\n",
       "      <th>VISal</th>\n",
       "      <th>VISam</th>\n",
       "      <th>VISl</th>\n",
       "      <th>VISp</th>\n",
       "      <th>VISpm</th>\n",
       "      <th>VISrl</th>\n",
       "    </tr>\n",
       "    <tr>\n",
       "      <th>genotype</th>\n",
       "      <th></th>\n",
       "      <th></th>\n",
       "      <th></th>\n",
       "      <th></th>\n",
       "      <th></th>\n",
       "      <th></th>\n",
       "    </tr>\n",
       "  </thead>\n",
       "  <tbody>\n",
       "    <tr>\n",
       "      <th>Cux2-CreERT2/wt;Camk2a-CreERT2/wt;Ai93(TITL-GCaMP6f)/wt</th>\n",
       "      <td>1</td>\n",
       "      <td>0</td>\n",
       "      <td>0</td>\n",
       "      <td>1</td>\n",
       "      <td>0</td>\n",
       "      <td>1</td>\n",
       "    </tr>\n",
       "    <tr>\n",
       "      <th>Cux2-CreERT2/wt;Camk2a-tTA/wt;Ai93(TITL-GCaMP6f)/wt</th>\n",
       "      <td>5</td>\n",
       "      <td>6</td>\n",
       "      <td>6</td>\n",
       "      <td>8</td>\n",
       "      <td>5</td>\n",
       "      <td>2</td>\n",
       "    </tr>\n",
       "    <tr>\n",
       "      <th>Ntsr1-Cre_GN220/wt;Ai148(TIT2L-GC6f-ICL-tTA2)/wt</th>\n",
       "      <td>0</td>\n",
       "      <td>0</td>\n",
       "      <td>0</td>\n",
       "      <td>6</td>\n",
       "      <td>0</td>\n",
       "      <td>0</td>\n",
       "    </tr>\n",
       "    <tr>\n",
       "      <th>Rbp4-Cre_KL100/wt;Camk2a-tTA/wt;Ai93(TITL-GCaMP6f)/wt</th>\n",
       "      <td>0</td>\n",
       "      <td>0</td>\n",
       "      <td>0</td>\n",
       "      <td>4</td>\n",
       "      <td>0</td>\n",
       "      <td>0</td>\n",
       "    </tr>\n",
       "    <tr>\n",
       "      <th>Rorb-IRES2-Cre/wt;Camk2a-tTA/wt;Ai93(TITL-GCaMP6f)/wt</th>\n",
       "      <td>4</td>\n",
       "      <td>0</td>\n",
       "      <td>4</td>\n",
       "      <td>4</td>\n",
       "      <td>4</td>\n",
       "      <td>0</td>\n",
       "    </tr>\n",
       "    <tr>\n",
       "      <th>Sst-IRES-Cre/wt;Ai148(TIT2L-GC6f-ICL-tTA2)/wt</th>\n",
       "      <td>9</td>\n",
       "      <td>0</td>\n",
       "      <td>8</td>\n",
       "      <td>8</td>\n",
       "      <td>8</td>\n",
       "      <td>0</td>\n",
       "    </tr>\n",
       "    <tr>\n",
       "      <th>Vip-IRES-Cre/wt;Ai148(TIT2L-GC6f-ICL-tTA2)/wt</th>\n",
       "      <td>0</td>\n",
       "      <td>0</td>\n",
       "      <td>0</td>\n",
       "      <td>6</td>\n",
       "      <td>0</td>\n",
       "      <td>0</td>\n",
       "    </tr>\n",
       "  </tbody>\n",
       "</table>\n",
       "</div>"
      ],
      "text/plain": [
       "                                                    path                  \\\n",
       "area                                               VISal VISam VISl VISp   \n",
       "genotype                                                                   \n",
       "Cux2-CreERT2/wt;Camk2a-CreERT2/wt;Ai93(TITL-GCa...     1     0    0    1   \n",
       "Cux2-CreERT2/wt;Camk2a-tTA/wt;Ai93(TITL-GCaMP6f...     5     6    6    8   \n",
       "Ntsr1-Cre_GN220/wt;Ai148(TIT2L-GC6f-ICL-tTA2)/wt       0     0    0    6   \n",
       "Rbp4-Cre_KL100/wt;Camk2a-tTA/wt;Ai93(TITL-GCaMP...     0     0    0    4   \n",
       "Rorb-IRES2-Cre/wt;Camk2a-tTA/wt;Ai93(TITL-GCaMP...     4     0    4    4   \n",
       "Sst-IRES-Cre/wt;Ai148(TIT2L-GC6f-ICL-tTA2)/wt          9     0    8    8   \n",
       "Vip-IRES-Cre/wt;Ai148(TIT2L-GC6f-ICL-tTA2)/wt          0     0    0    6   \n",
       "\n",
       "                                                                \n",
       "area                                               VISpm VISrl  \n",
       "genotype                                                        \n",
       "Cux2-CreERT2/wt;Camk2a-CreERT2/wt;Ai93(TITL-GCa...     0     1  \n",
       "Cux2-CreERT2/wt;Camk2a-tTA/wt;Ai93(TITL-GCaMP6f...     5     2  \n",
       "Ntsr1-Cre_GN220/wt;Ai148(TIT2L-GC6f-ICL-tTA2)/wt       0     0  \n",
       "Rbp4-Cre_KL100/wt;Camk2a-tTA/wt;Ai93(TITL-GCaMP...     0     0  \n",
       "Rorb-IRES2-Cre/wt;Camk2a-tTA/wt;Ai93(TITL-GCaMP...     4     0  \n",
       "Sst-IRES-Cre/wt;Ai148(TIT2L-GC6f-ICL-tTA2)/wt          8     0  \n",
       "Vip-IRES-Cre/wt;Ai148(TIT2L-GC6f-ICL-tTA2)/wt          0     0  "
      ]
     },
     "execution_count": 12,
     "metadata": {},
     "output_type": "execute_result"
    }
   ],
   "source": [
    "pd.pivot_table(manifest, values=['path'],columns=['area'], index=['genotype'], aggfunc='count', fill_value=0)"
   ]
  },
  {
   "cell_type": "code",
   "execution_count": null,
   "id": "559a3b4b",
   "metadata": {},
   "outputs": [],
   "source": []
  }
 ],
 "metadata": {
  "jupytext": {
   "text_representation": {
    "extension": ".md",
    "format_name": "myst",
    "format_version": 0.13,
    "jupytext_version": "1.14.1"
   }
  },
  "kernelspec": {
   "display_name": "Python 3 (ipykernel)",
   "language": "python",
   "name": "python3"
  },
  "language_info": {
   "codemirror_mode": {
    "name": "ipython",
    "version": 3
   },
   "file_extension": ".py",
   "mimetype": "text/x-python",
   "name": "python",
   "nbconvert_exporter": "python",
   "pygments_lexer": "ipython3",
   "version": "3.10.6"
  },
  "source_map": [
   12,
   17,
   21,
   31,
   35,
   40,
   44,
   75,
   79,
   81,
   85,
   89,
   93,
   97,
   101
  ]
 },
 "nbformat": 4,
 "nbformat_minor": 5
}