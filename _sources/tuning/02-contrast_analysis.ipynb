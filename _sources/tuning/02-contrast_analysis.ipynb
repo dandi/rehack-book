{
 "cells": [
  {
   "cell_type": "markdown",
   "id": "63920d71",
   "metadata": {},
   "source": [
    "# Compute and plot contrast tuning curves\n",
    "### This notebook uses the extracted event times to calculate the tuning of individual neurons to contrast X direction."
   ]
  },
  {
   "cell_type": "code",
   "execution_count": 1,
   "id": "2d5a6c67",
   "metadata": {},
   "outputs": [],
   "source": [
    "import numpy as np\n",
    "import pandas as pd\n",
    "import matplotlib.pyplot as plt\n",
    "import os\n",
    "import pynwb\n",
    "\n",
    "import warnings"
   ]
  },
  {
   "cell_type": "code",
   "execution_count": 2,
   "id": "aec77960",
   "metadata": {},
   "outputs": [],
   "source": [
    "from dandi.dandiapi import DandiAPIClient"
   ]
  },
  {
   "cell_type": "code",
   "execution_count": 3,
   "id": "efba749f",
   "metadata": {},
   "outputs": [],
   "source": [
    "savepath = 'data/'"
   ]
  },
  {
   "cell_type": "markdown",
   "id": "7f597c25",
   "metadata": {},
   "source": [
    "## Specify a session to analyze and load NWB file"
   ]
  },
  {
   "cell_type": "code",
   "execution_count": 4,
   "id": "b6e268e4",
   "metadata": {},
   "outputs": [],
   "source": [
    "session_ID = 682746585"
   ]
  },
  {
   "cell_type": "code",
   "execution_count": 5,
   "id": "5d558d25",
   "metadata": {},
   "outputs": [],
   "source": [
    "dandiset_id = '000039'\n",
    "filepath = 'sub-661968859/sub-661968859_ses-682746585_behavior+ophys.nwb' \n",
    "with DandiAPIClient() as client:\n",
    "    asset = client.get_dandiset(dandiset_id, 'draft').get_asset_by_path(filepath)\n",
    "    s3_url = asset.get_content_url(follow_redirects=1, strip_query=True)"
   ]
  },
  {
   "cell_type": "markdown",
   "id": "fa2ddbc5",
   "metadata": {},
   "source": [
    "## Functions to load specific data assets from the nwb file"
   ]
  },
  {
   "cell_type": "code",
   "execution_count": 6,
   "id": "65bd6330",
   "metadata": {},
   "outputs": [],
   "source": [
    "def load_sweep_table(s3_url):\n",
    "    '''Creates a dataframe of the stimulus presentation table'''\n",
    "    with warnings.catch_warnings():\n",
    "        warnings.simplefilter(\"ignore\")\n",
    "        with pynwb.NWBHDF5IO(s3_url, mode='r', load_namespaces=True, driver='ros3') as io:\n",
    "            nwbfile = io.read()\n",
    "            start_times = np.array(nwbfile.intervals['epochs']['start_time'].data)\n",
    "            stop_times = np.array(nwbfile.intervals['epochs']['stop_time'].data)\n",
    "            contrasts = np.array(nwbfile.intervals['epochs']['contrast'].data)\n",
    "            directions = np.array(nwbfile.intervals['epochs']['direction'].data)\n",
    "            SFs = np.array(nwbfile.intervals['epochs']['spatial_frequency'].data)\n",
    "            TFs = np.array(nwbfile.intervals['epochs']['temporal_frequency'].data)\n",
    "\n",
    "    df = pd.DataFrame(np.zeros((len(start_times),6)),columns=('Start','End','Contrast','Ori','SF','TF'))\n",
    "    df['Start'] = start_times\n",
    "    df['End'] = stop_times\n",
    "    df['Contrast'] = contrasts\n",
    "    df['Ori'] = directions\n",
    "    df['SF'] = SFs\n",
    "    df['TF'] = TFs\n",
    "    return df"
   ]
  },
  {
   "cell_type": "code",
   "execution_count": 7,
   "id": "8b96af15",
   "metadata": {},
   "outputs": [],
   "source": [
    "sweep_table = load_sweep_table(s3_url)"
   ]
  },
  {
   "cell_type": "code",
   "execution_count": 8,
   "id": "58a72ad1",
   "metadata": {},
   "outputs": [
    {
     "data": {
      "text/html": [
       "<div>\n",
       "<style scoped>\n",
       "    .dataframe tbody tr th:only-of-type {\n",
       "        vertical-align: middle;\n",
       "    }\n",
       "\n",
       "    .dataframe tbody tr th {\n",
       "        vertical-align: top;\n",
       "    }\n",
       "\n",
       "    .dataframe thead th {\n",
       "        text-align: right;\n",
       "    }\n",
       "</style>\n",
       "<table border=\"1\" class=\"dataframe\">\n",
       "  <thead>\n",
       "    <tr style=\"text-align: right;\">\n",
       "      <th></th>\n",
       "      <th>Start</th>\n",
       "      <th>End</th>\n",
       "      <th>Contrast</th>\n",
       "      <th>Ori</th>\n",
       "      <th>SF</th>\n",
       "      <th>TF</th>\n",
       "    </tr>\n",
       "  </thead>\n",
       "  <tbody>\n",
       "    <tr>\n",
       "      <th>0</th>\n",
       "      <td>194.0</td>\n",
       "      <td>254.0</td>\n",
       "      <td>0.05</td>\n",
       "      <td>270.0</td>\n",
       "      <td>0.04</td>\n",
       "      <td>1.0</td>\n",
       "    </tr>\n",
       "    <tr>\n",
       "      <th>1</th>\n",
       "      <td>284.0</td>\n",
       "      <td>344.0</td>\n",
       "      <td>0.05</td>\n",
       "      <td>270.0</td>\n",
       "      <td>0.04</td>\n",
       "      <td>1.0</td>\n",
       "    </tr>\n",
       "    <tr>\n",
       "      <th>2</th>\n",
       "      <td>375.0</td>\n",
       "      <td>435.0</td>\n",
       "      <td>0.10</td>\n",
       "      <td>45.0</td>\n",
       "      <td>0.04</td>\n",
       "      <td>1.0</td>\n",
       "    </tr>\n",
       "    <tr>\n",
       "      <th>3</th>\n",
       "      <td>465.0</td>\n",
       "      <td>525.0</td>\n",
       "      <td>0.80</td>\n",
       "      <td>0.0</td>\n",
       "      <td>0.04</td>\n",
       "      <td>1.0</td>\n",
       "    </tr>\n",
       "    <tr>\n",
       "      <th>4</th>\n",
       "      <td>556.0</td>\n",
       "      <td>616.0</td>\n",
       "      <td>0.60</td>\n",
       "      <td>135.0</td>\n",
       "      <td>0.04</td>\n",
       "      <td>1.0</td>\n",
       "    </tr>\n",
       "  </tbody>\n",
       "</table>\n",
       "</div>"
      ],
      "text/plain": [
       "   Start    End  Contrast    Ori    SF   TF\n",
       "0  194.0  254.0      0.05  270.0  0.04  1.0\n",
       "1  284.0  344.0      0.05  270.0  0.04  1.0\n",
       "2  375.0  435.0      0.10   45.0  0.04  1.0\n",
       "3  465.0  525.0      0.80    0.0  0.04  1.0\n",
       "4  556.0  616.0      0.60  135.0  0.04  1.0"
      ]
     },
     "execution_count": 8,
     "metadata": {},
     "output_type": "execute_result"
    }
   ],
   "source": [
    "sweep_table.head()"
   ]
  },
  {
   "cell_type": "markdown",
   "id": "bba5ee79",
   "metadata": {},
   "source": [
    "This dataframe describes the stimulus presentation trials. The Start and End times are given in imaging frames (at 30 frames/sec). So you can see each trial has a duration of 2 seconds, with 1 second between trials, when mean luminance gray is presented. There are 8 directions (\"Ori\") of gratings and 6 Contrasts, and there are blanksweeps interleaved when Contrast, Ori, SF, TF are all NaN."
   ]
  },
  {
   "cell_type": "code",
   "execution_count": 9,
   "id": "518e897a",
   "metadata": {},
   "outputs": [],
   "source": [
    "def grating_params(sweep_table):\n",
    "    '''Extracts the grating parameters from the stimulus presentation table'''\n",
    "    directions = np.sort(sweep_table.Ori.dropna().unique()).astype(int)\n",
    "    contrasts = np.sort(sweep_table.Contrast.dropna().unique())\n",
    "    \n",
    "    return directions, contrasts"
   ]
  },
  {
   "cell_type": "code",
   "execution_count": 10,
   "id": "463c3c01",
   "metadata": {},
   "outputs": [],
   "source": [
    "def load_mean_sweep_events(s3_url, savepath):\n",
    "    '''Computes (or loads if already saved) an array of the mean events per neuron during each stimulus presentation'''\n",
    "    if os.path.isfile(os.path.join(savepath, str(session_ID)+'_mean_sweep_events.npy')):\n",
    "        mse = np.load(os.path.join(savepath, str(session_ID)+'_mean_sweep_events.npy'))\n",
    "    else:\n",
    "        with warnings.catch_warnings():\n",
    "            warnings.simplefilter(\"ignore\")\n",
    "            with pynwb.NWBHDF5IO(s3_url, mode='r', load_namespaces=True, driver='ros3') as io:\n",
    "                nwbfile = io.read()\n",
    "                events = np.array(nwbfile.processing['brain_observatory_pipeline']['l0_events']['true_false_events'].data)\n",
    "                sweep_table = load_sweep_table(s3_url)\n",
    "\n",
    "                num_neurons = np.shape(events)[1]\n",
    "                num_sweeps = len(sweep_table)\n",
    "\n",
    "                mse = np.zeros((num_sweeps,num_neurons))\n",
    "                for sweep in range(num_sweeps):\n",
    "                    start_frame = int(sweep_table['Start'][sweep])\n",
    "                    end_frame = int(sweep_table['End'][sweep])\n",
    "                    mse[sweep] = np.mean(events[start_frame:end_frame,:],axis=0)\n",
    "                os.makedirs(savepath, exist_ok=True)\n",
    "                np.save(os.path.join(savepath, str(session_ID)+'_mean_sweep_events.npy'),mse)\n",
    "    \n",
    "    return mse"
   ]
  },
  {
   "cell_type": "markdown",
   "id": "b4863f3e",
   "metadata": {},
   "source": [
    "## Functions to compute tuning curve and identify peak conditions for all neurons in session"
   ]
  },
  {
   "cell_type": "code",
   "execution_count": 11,
   "id": "6e33be32",
   "metadata": {},
   "outputs": [],
   "source": [
    "def compute_mean_condition_responses(sweep_table, mean_sweep_events):\n",
    "    '''Computes the mean response and SEM to each stimulus condition (i.e. each direction/contrast combination) \n",
    "    and for the blank sweeps (contrast=0)'''\n",
    "    \n",
    "    (num_sweeps,num_cells) = np.shape(mean_sweep_events) \n",
    "    \n",
    "    directions, contrasts = grating_params(sweep_table)\n",
    "    \n",
    "    condition_responses = np.zeros((num_cells,len(directions),len(contrasts)))\n",
    "    condition_sem = np.zeros((num_cells,len(directions),len(contrasts)))\n",
    "    for i_dir,direction in enumerate(directions):\n",
    "        is_direction = sweep_table['Ori'] == direction\n",
    "        for i_con,contrast in enumerate(contrasts):\n",
    "            is_contrast = sweep_table['Contrast'] == contrast\n",
    "            is_condition = (is_direction & is_contrast).values\n",
    "            \n",
    "            condition_responses[:,i_dir,i_con] = np.mean(mean_sweep_events[is_condition],axis=0)\n",
    "            condition_sem[:,i_dir,i_con] = np.std(mean_sweep_events[is_condition],axis=0)/np.sqrt(float(is_condition.sum()))\n",
    "            \n",
    "    is_blank = np.isnan(sweep_table['Ori'].values)\n",
    "    blank_sweep_responses = np.mean(mean_sweep_events[is_blank],axis=0)\n",
    "    blank_sweep_sem = np.std(mean_sweep_events[is_blank],axis=0)/np.sqrt(float(is_blank.sum()))\n",
    "            \n",
    "    return condition_responses, condition_sem, blank_sweep_responses, blank_sweep_sem"
   ]
  },
  {
   "cell_type": "code",
   "execution_count": 12,
   "id": "fab369e9",
   "metadata": {},
   "outputs": [],
   "source": [
    "def get_peak_conditions(condition_responses):\n",
    "    \n",
    "    (num_cells,num_directions,num_contrasts) = np.shape(condition_responses)\n",
    "    \n",
    "    peak_direction = np.zeros((num_cells,),dtype=np.uint8)\n",
    "    peak_contrast = np.zeros((num_cells,),dtype=np.uint8)\n",
    "    for nc in range(num_cells):\n",
    "        cell_max = np.nanmax(condition_responses[nc])\n",
    "        is_max = condition_responses[nc] == cell_max\n",
    "        \n",
    "        if is_max.sum()==1:\n",
    "            (direction,contrast) = np.argwhere(is_max)[0,:]\n",
    "        else:\n",
    "            print(str(is_max.sum())+' peaks')\n",
    "            r = np.random.choice(is_max.sum())\n",
    "            (direction,contrast) = np.argwhere(is_max)\n",
    "            print(np.shape(direction))\n",
    "            direction = direction[r]\n",
    "            contrast = contrast[r]\n",
    "        peak_direction[nc] = direction\n",
    "        peak_contrast[nc] = contrast\n",
    "        \n",
    "    return peak_direction, peak_contrast"
   ]
  },
  {
   "cell_type": "markdown",
   "id": "b3b45467",
   "metadata": {},
   "source": [
    "## Plot tuning curve for one cell"
   ]
  },
  {
   "cell_type": "code",
   "execution_count": 13,
   "id": "f6909245",
   "metadata": {},
   "outputs": [],
   "source": [
    "def plot_single_cell_tuning_curves(savepath,example_cell):\n",
    "    \n",
    "    mse = 3000.0*load_mean_sweep_events(s3_url, savepath)\n",
    "    sweep_table = load_sweep_table(s3_url)\n",
    "    directions, contrasts = grating_params(sweep_table)\n",
    "\n",
    "    condition_resp, condition_SEM, blank_responses, _ = compute_mean_condition_responses(sweep_table,mse)\n",
    "    \n",
    "    #shift zero to center:\n",
    "    # directions = [-135,-90,-45,0,45,90,135,180]\n",
    "    # condition_resp = cu.center_direction_zero(condition_responses)\n",
    "    # condition_SEM = cu.center_direction_zero(condition_SEM)\n",
    "    \n",
    "    #full direction by contrast response heatmap\n",
    "    plt.figure(figsize=(7,4))\n",
    "    ax = plt.subplot2grid((5,5),(0,3),rowspan=5,colspan=2)\n",
    "    im = ax.imshow(condition_resp[example_cell],vmin=0.0,interpolation='nearest',aspect='auto',cmap='plasma')\n",
    "    ax.set_ylabel('Direction (deg)',fontsize=12)\n",
    "    ax.set_xlabel('Contrast (%)',fontsize=12)\n",
    "    ax.set_xticks(np.arange(len(contrasts)))\n",
    "    ax.set_xticklabels([str(int(100*x)) for x in contrasts],fontsize=12)\n",
    "    ax.set_yticks(np.arange(len(directions)))\n",
    "    ax.set_yticklabels([str(x) for x in directions],fontsize=12)  \n",
    "    cbar = plt.colorbar(im,ax=ax)\n",
    "    cbar.set_label('Event magnitude per second (%)',fontsize=12)\n",
    "    \n",
    "    \n",
    "    peak_dir_idx, peak_con_idx = get_peak_conditions(condition_resp)\n",
    "    \n",
    "    #contrast tuning at peak direction\n",
    "    contrast_means = condition_resp[example_cell,peak_dir_idx[example_cell],:]\n",
    "    contrast_SEMs = condition_SEM[example_cell,peak_dir_idx[example_cell],:]\n",
    "    \n",
    "    y_max = 1.1*np.max(contrast_means+contrast_SEMs)\n",
    "    \n",
    "    ax = plt.subplot2grid((5,5),(0,0),rowspan=2,colspan=2)\n",
    "    ax.errorbar(np.log(contrasts),contrast_means,contrast_SEMs,linewidth=0.7,color='b')\n",
    "    ax.plot([np.log(contrasts[0]),np.log(contrasts[-1])],[blank_responses[example_cell],blank_responses[example_cell]],linewidth=0.7,linestyle='--',color='b')\n",
    "    ax.set_xticks(np.log(contrasts))\n",
    "    ax.set_xticklabels([str(int(100*x)) for x in contrasts],fontsize=12)\n",
    "    ax.tick_params(axis='y',labelsize=12)\n",
    "    ax.set_xlabel('Contrast (%)',fontsize=12)\n",
    "    ax.set_ylabel('Event magnitude per second (%)  ',fontsize=12)\n",
    "    ax.set_ylim([0,y_max])\n",
    "    ax.spines['right'].set_visible(False)\n",
    "    ax.spines['top'].set_visible(False)\n",
    "    ax.set_title('@ '+str(directions[peak_dir_idx[example_cell]])+' degrees',fontsize=12)\n",
    "\n",
    "    #direction tuning at peak contrast\n",
    "    direction_means = condition_resp[example_cell,:,peak_con_idx[example_cell]]\n",
    "    direction_SEMs = condition_SEM[example_cell,:,peak_con_idx[example_cell]]\n",
    "    ax = plt.subplot2grid((5,5),(3,0),rowspan=2,colspan=2)\n",
    "    ax.errorbar(np.arange(len(directions)),direction_means,direction_SEMs,linewidth=0.7,color='b')\n",
    "    ax.plot([0,len(directions)-1],[blank_responses[example_cell],blank_responses[example_cell]],linestyle='--',color='b',linewidth=0.7)\n",
    "    ax.set_xlim(-0.07,7.07)\n",
    "    ax.set_xticks(np.arange(len(directions)))\n",
    "    ax.set_xticklabels([str(x) for x in directions],fontsize=12)\n",
    "    ax.tick_params(axis='y',labelsize=12)\n",
    "    \n",
    "    ax.set_xlabel('Direction (deg)',fontsize=12)\n",
    "    #ax.set_ylabel('Response',fontsize=14)\n",
    "    ax.set_ylim([0,y_max])\n",
    "    ax.spines['right'].set_visible(False)\n",
    "    ax.spines['top'].set_visible(False)\n",
    "    ax.set_title('@ '+str(int(100*contrasts[peak_con_idx[example_cell]]))+'% contrast',fontsize=12)\n",
    "    \n",
    "    \n",
    "    plt.tight_layout(w_pad=-5.5, h_pad=0.1)\n",
    "    \n",
    "    os.makedirs('figures', exist_ok=True)\n",
    "    plt.savefig(os.path.join('figures',str(session_ID)+'_cell_'+str(example_cell)+'_tuning_curves.png'),dpi=300)\n",
    "    plt.show()\n",
    "    plt.close()"
   ]
  },
  {
   "cell_type": "code",
   "execution_count": 14,
   "id": "c37be153",
   "metadata": {},
   "outputs": [
    {
     "data": {
      "image/png": "[encoded data removed]",
      "text/plain": [
       "<Figure size 700x400 with 4 Axes>"
      ]
     },
     "metadata": {
      "filenames": {
       "image/png": "/home/runner/work/rehack-book/rehack-book/docs/_build/jupyter_execute/tuning/02-contrast_analysis_19_0.png"
      }
     },
     "output_type": "display_data"
    }
   ],
   "source": [
    "plot_single_cell_tuning_curves(savepath, 6)"
   ]
  },
  {
   "cell_type": "code",
   "execution_count": null,
   "id": "081e7a2c",
   "metadata": {},
   "outputs": [],
   "source": []
  }
 ],
 "metadata": {
  "jupytext": {
   "text_representation": {
    "extension": ".md",
    "format_name": "myst",
    "format_version": 0.13,
    "jupytext_version": "1.14.1"
   }
  },
  "kernelspec": {
   "display_name": "Python 3 (ipykernel)",
   "language": "python",
   "name": "python3"
  },
  "language_info": {
   "codemirror_mode": {
    "name": "ipython",
    "version": 3
   },
   "file_extension": ".py",
   "mimetype": "text/x-python",
   "name": "python",
   "nbconvert_exporter": "python",
   "pygments_lexer": "ipython3",
   "version": "3.10.6"
  },
  "source_map": [
   12,
   17,
   27,
   31,
   33,
   37,
   41,
   47,
   51,
   75,
   79,
   81,
   85,
   94,
   119,
   123,
   150,
   174,
   178,
   254,
   258
  ]
 },
 "nbformat": 4,
 "nbformat_minor": 5
}