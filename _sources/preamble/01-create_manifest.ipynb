{
 "cells": [
  {
   "cell_type": "markdown",
   "id": "70819237",
   "metadata": {},
   "source": [
    "# Dandiset Manifest\n",
    "### This notebook shows all of the assets within this dandiset, organized by their transgenic lines and recording locations"
   ]
  },
  {
   "cell_type": "code",
   "execution_count": 1,
   "id": "5915538e",
   "metadata": {},
   "outputs": [],
   "source": [
    "from dandi.dandiapi import DandiAPIClient"
   ]
  },
  {
   "cell_type": "code",
   "execution_count": 2,
   "id": "a4c71748",
   "metadata": {},
   "outputs": [],
   "source": [
    "import numpy as np\n",
    "import pandas as pd\n",
    "import pynwb\n",
    "from tqdm import tqdm\n",
    "from joblib import Parallel, delayed\n",
    "\n",
    "import warnings\n",
    "warnings.simplefilter(\"ignore\", category=UserWarning)"
   ]
  },
  {
   "cell_type": "code",
   "execution_count": 3,
   "id": "480734be",
   "metadata": {},
   "outputs": [],
   "source": [
    "dandiset_id = '000039'"
   ]
  },
  {
   "cell_type": "code",
   "execution_count": 4,
   "id": "bcc56f15",
   "metadata": {},
   "outputs": [],
   "source": [
    "client = DandiAPIClient()\n",
    "dandisets = list(client.get_dandisets())"
   ]
  },
  {
   "cell_type": "code",
   "execution_count": 5,
   "id": "f49d535b",
   "metadata": {},
   "outputs": [],
   "source": [
    "ds = client.get_dandiset(dandiset_id)"
   ]
  },
  {
   "cell_type": "code",
   "execution_count": 6,
   "id": "4c6f99b5",
   "metadata": {},
   "outputs": [
    {
     "name": "stderr",
     "output_type": "stream",
     "text": [
      "\r",
      "  0%|          | 0/100 [00:00<?, ?it/s]"
     ]
    },
    {
     "name": "stderr",
     "output_type": "stream",
     "text": [
      "\r",
      " 10%|█         | 10/100 [00:00<00:02, 30.21it/s]"
     ]
    },
    {
     "name": "stderr",
     "output_type": "stream",
     "text": [
      "\r",
      " 20%|██        | 20/100 [00:05<00:25,  3.09it/s]"
     ]
    },
    {
     "name": "stderr",
     "output_type": "stream",
     "text": [
      "\r",
      " 30%|███       | 30/100 [00:06<00:14,  4.95it/s]"
     ]
    },
    {
     "ename": "ValueError",
     "evalue": "h5py was built without ROS3 support, can't use ros3 driver",
     "output_type": "error",
     "traceback": [
      "\u001b[0;31m---------------------------------------------------------------------------\u001b[0m",
      "\u001b[0;31m_RemoteTraceback\u001b[0m                          Traceback (most recent call last)",
      "\u001b[0;31m_RemoteTraceback\u001b[0m: \n\"\"\"\nTraceback (most recent call last):\n  File \"/opt/hostedtoolcache/Python/3.9.14/x64/lib/python3.9/site-packages/joblib/externals/loky/process_executor.py\", line 428, in _process_worker\n    r = call_item()\n  File \"/opt/hostedtoolcache/Python/3.9.14/x64/lib/python3.9/site-packages/joblib/externals/loky/process_executor.py\", line 275, in __call__\n    return self.fn(*self.args, **self.kwargs)\n  File \"/opt/hostedtoolcache/Python/3.9.14/x64/lib/python3.9/site-packages/joblib/_parallel_backends.py\", line 620, in __call__\n    return self.func(*args, **kwargs)\n  File \"/opt/hostedtoolcache/Python/3.9.14/x64/lib/python3.9/site-packages/joblib/parallel.py\", line 288, in __call__\n    return [func(*args, **kwargs)\n  File \"/opt/hostedtoolcache/Python/3.9.14/x64/lib/python3.9/site-packages/joblib/parallel.py\", line 288, in <listcomp>\n    return [func(*args, **kwargs)\n  File \"/tmp/ipykernel_4892/968885907.py\", line 19, in to_struct\n  File \"/opt/hostedtoolcache/Python/3.9.14/x64/lib/python3.9/site-packages/hdmf/utils.py\", line 645, in func_call\n    return func(args[0], **pargs)\n  File \"/opt/hostedtoolcache/Python/3.9.14/x64/lib/python3.9/site-packages/pynwb/__init__.py\", line 230, in __init__\n    super().load_namespaces(tm, path, file=file_obj, driver=driver)\n  File \"/opt/hostedtoolcache/Python/3.9.14/x64/lib/python3.9/site-packages/hdmf/utils.py\", line 645, in func_call\n    return func(args[0], **pargs)\n  File \"/opt/hostedtoolcache/Python/3.9.14/x64/lib/python3.9/site-packages/hdmf/backends/hdf5/h5tools.py\", line 150, in load_namespaces\n    open_file_obj = cls.__resolve_file_obj(path, file_obj, driver)\n  File \"/opt/hostedtoolcache/Python/3.9.14/x64/lib/python3.9/site-packages/hdmf/backends/hdf5/h5tools.py\", line 125, in __resolve_file_obj\n    file_obj = File(path, 'r', **file_kwargs)\n  File \"/opt/hostedtoolcache/Python/3.9.14/x64/lib/python3.9/site-packages/h5py/_hl/files.py\", line 485, in __init__\n    raise ValueError(\nValueError: h5py was built without ROS3 support, can't use ros3 driver\n\"\"\"",
      "\nThe above exception was the direct cause of the following exception:\n",
      "\u001b[0;31mValueError\u001b[0m                                Traceback (most recent call last)",
      "Cell \u001b[0;32mIn [6], line 26\u001b[0m\n\u001b[1;32m     23\u001b[0m     manifest[\u001b[38;5;124m'\u001b[39m\u001b[38;5;124mimaging_depth\u001b[39m\u001b[38;5;124m'\u001b[39m] \u001b[38;5;241m=\u001b[39m location\u001b[38;5;241m.\u001b[39msplit(\u001b[38;5;124m'\u001b[39m\u001b[38;5;124m,\u001b[39m\u001b[38;5;124m'\u001b[39m)[\u001b[38;5;241m1\u001b[39m]\u001b[38;5;241m.\u001b[39msplit((\u001b[38;5;124m'\u001b[39m\u001b[38;5;124m \u001b[39m\u001b[38;5;124m'\u001b[39m))[\u001b[38;5;241m1\u001b[39m]\n\u001b[1;32m     24\u001b[0m     \u001b[38;5;28;01mreturn\u001b[39;00m manifest\n\u001b[0;32m---> 26\u001b[0m result \u001b[38;5;241m=\u001b[39m Parallel(n_jobs\u001b[38;5;241m=\u001b[39m\u001b[38;5;241m10\u001b[39m)(delayed(to_struct)(asset_list[i]) \u001b[38;5;28;01mfor\u001b[39;00m i \u001b[38;5;129;01min\u001b[39;00m tqdm(\u001b[38;5;28mrange\u001b[39m(number_assets)))\n",
      "File \u001b[0;32m/opt/hostedtoolcache/Python/3.9.14/x64/lib/python3.9/site-packages/joblib/parallel.py:1098\u001b[0m, in \u001b[0;36mParallel.__call__\u001b[0;34m(self, iterable)\u001b[0m\n\u001b[1;32m   1095\u001b[0m     \u001b[38;5;28mself\u001b[39m\u001b[38;5;241m.\u001b[39m_iterating \u001b[38;5;241m=\u001b[39m \u001b[38;5;28;01mFalse\u001b[39;00m\n\u001b[1;32m   1097\u001b[0m \u001b[38;5;28;01mwith\u001b[39;00m \u001b[38;5;28mself\u001b[39m\u001b[38;5;241m.\u001b[39m_backend\u001b[38;5;241m.\u001b[39mretrieval_context():\n\u001b[0;32m-> 1098\u001b[0m     \u001b[38;5;28;43mself\u001b[39;49m\u001b[38;5;241;43m.\u001b[39;49m\u001b[43mretrieve\u001b[49m\u001b[43m(\u001b[49m\u001b[43m)\u001b[49m\n\u001b[1;32m   1099\u001b[0m \u001b[38;5;66;03m# Make sure that we get a last message telling us we are done\u001b[39;00m\n\u001b[1;32m   1100\u001b[0m elapsed_time \u001b[38;5;241m=\u001b[39m time\u001b[38;5;241m.\u001b[39mtime() \u001b[38;5;241m-\u001b[39m \u001b[38;5;28mself\u001b[39m\u001b[38;5;241m.\u001b[39m_start_time\n",
      "File \u001b[0;32m/opt/hostedtoolcache/Python/3.9.14/x64/lib/python3.9/site-packages/joblib/parallel.py:975\u001b[0m, in \u001b[0;36mParallel.retrieve\u001b[0;34m(self)\u001b[0m\n\u001b[1;32m    973\u001b[0m \u001b[38;5;28;01mtry\u001b[39;00m:\n\u001b[1;32m    974\u001b[0m     \u001b[38;5;28;01mif\u001b[39;00m \u001b[38;5;28mgetattr\u001b[39m(\u001b[38;5;28mself\u001b[39m\u001b[38;5;241m.\u001b[39m_backend, \u001b[38;5;124m'\u001b[39m\u001b[38;5;124msupports_timeout\u001b[39m\u001b[38;5;124m'\u001b[39m, \u001b[38;5;28;01mFalse\u001b[39;00m):\n\u001b[0;32m--> 975\u001b[0m         \u001b[38;5;28mself\u001b[39m\u001b[38;5;241m.\u001b[39m_output\u001b[38;5;241m.\u001b[39mextend(\u001b[43mjob\u001b[49m\u001b[38;5;241;43m.\u001b[39;49m\u001b[43mget\u001b[49m\u001b[43m(\u001b[49m\u001b[43mtimeout\u001b[49m\u001b[38;5;241;43m=\u001b[39;49m\u001b[38;5;28;43mself\u001b[39;49m\u001b[38;5;241;43m.\u001b[39;49m\u001b[43mtimeout\u001b[49m\u001b[43m)\u001b[49m)\n\u001b[1;32m    976\u001b[0m     \u001b[38;5;28;01melse\u001b[39;00m:\n\u001b[1;32m    977\u001b[0m         \u001b[38;5;28mself\u001b[39m\u001b[38;5;241m.\u001b[39m_output\u001b[38;5;241m.\u001b[39mextend(job\u001b[38;5;241m.\u001b[39mget())\n",
      "File \u001b[0;32m/opt/hostedtoolcache/Python/3.9.14/x64/lib/python3.9/site-packages/joblib/_parallel_backends.py:567\u001b[0m, in \u001b[0;36mLokyBackend.wrap_future_result\u001b[0;34m(future, timeout)\u001b[0m\n\u001b[1;32m    564\u001b[0m \u001b[38;5;124;03m\"\"\"Wrapper for Future.result to implement the same behaviour as\u001b[39;00m\n\u001b[1;32m    565\u001b[0m \u001b[38;5;124;03mAsyncResults.get from multiprocessing.\"\"\"\u001b[39;00m\n\u001b[1;32m    566\u001b[0m \u001b[38;5;28;01mtry\u001b[39;00m:\n\u001b[0;32m--> 567\u001b[0m     \u001b[38;5;28;01mreturn\u001b[39;00m \u001b[43mfuture\u001b[49m\u001b[38;5;241;43m.\u001b[39;49m\u001b[43mresult\u001b[49m\u001b[43m(\u001b[49m\u001b[43mtimeout\u001b[49m\u001b[38;5;241;43m=\u001b[39;49m\u001b[43mtimeout\u001b[49m\u001b[43m)\u001b[49m\n\u001b[1;32m    568\u001b[0m \u001b[38;5;28;01mexcept\u001b[39;00m CfTimeoutError \u001b[38;5;28;01mas\u001b[39;00m e:\n\u001b[1;32m    569\u001b[0m     \u001b[38;5;28;01mraise\u001b[39;00m \u001b[38;5;167;01mTimeoutError\u001b[39;00m \u001b[38;5;28;01mfrom\u001b[39;00m \u001b[38;5;21;01me\u001b[39;00m\n",
      "File \u001b[0;32m/opt/hostedtoolcache/Python/3.9.14/x64/lib/python3.9/concurrent/futures/_base.py:446\u001b[0m, in \u001b[0;36mFuture.result\u001b[0;34m(self, timeout)\u001b[0m\n\u001b[1;32m    444\u001b[0m     \u001b[38;5;28;01mraise\u001b[39;00m CancelledError()\n\u001b[1;32m    445\u001b[0m \u001b[38;5;28;01melif\u001b[39;00m \u001b[38;5;28mself\u001b[39m\u001b[38;5;241m.\u001b[39m_state \u001b[38;5;241m==\u001b[39m FINISHED:\n\u001b[0;32m--> 446\u001b[0m     \u001b[38;5;28;01mreturn\u001b[39;00m \u001b[38;5;28;43mself\u001b[39;49m\u001b[38;5;241;43m.\u001b[39;49m\u001b[43m__get_result\u001b[49m\u001b[43m(\u001b[49m\u001b[43m)\u001b[49m\n\u001b[1;32m    447\u001b[0m \u001b[38;5;28;01melse\u001b[39;00m:\n\u001b[1;32m    448\u001b[0m     \u001b[38;5;28;01mraise\u001b[39;00m \u001b[38;5;167;01mTimeoutError\u001b[39;00m()\n",
      "File \u001b[0;32m/opt/hostedtoolcache/Python/3.9.14/x64/lib/python3.9/concurrent/futures/_base.py:391\u001b[0m, in \u001b[0;36mFuture.__get_result\u001b[0;34m(self)\u001b[0m\n\u001b[1;32m    389\u001b[0m \u001b[38;5;28;01mif\u001b[39;00m \u001b[38;5;28mself\u001b[39m\u001b[38;5;241m.\u001b[39m_exception:\n\u001b[1;32m    390\u001b[0m     \u001b[38;5;28;01mtry\u001b[39;00m:\n\u001b[0;32m--> 391\u001b[0m         \u001b[38;5;28;01mraise\u001b[39;00m \u001b[38;5;28mself\u001b[39m\u001b[38;5;241m.\u001b[39m_exception\n\u001b[1;32m    392\u001b[0m     \u001b[38;5;28;01mfinally\u001b[39;00m:\n\u001b[1;32m    393\u001b[0m         \u001b[38;5;66;03m# Break a reference cycle with the exception in self._exception\u001b[39;00m\n\u001b[1;32m    394\u001b[0m         \u001b[38;5;28mself\u001b[39m \u001b[38;5;241m=\u001b[39m \u001b[38;5;28;01mNone\u001b[39;00m\n",
      "\u001b[0;31mValueError\u001b[0m: h5py was built without ROS3 support, can't use ros3 driver"
     ]
    }
   ],
   "source": [
    "asset_list = list(ds.get_assets())\n",
    "number_assets = len(asset_list)\n",
    "manifest = pd.DataFrame(columns=('session_id','specimen_id','genotype','area','imaging_depth','sex','age','path','date'), \n",
    "                        index=range(number_assets))\n",
    "\n",
    "def to_struct(asset):\n",
    "    manifest = {}\n",
    "    md = asset.get_raw_metadata()\n",
    "    manifest['session_id'] = md['wasGeneratedBy'][0]['identifier']\n",
    "    manifest['specimen_id'] = md['wasAttributedTo'][0]['identifier']\n",
    "    manifest['genotype'] = md['wasAttributedTo'][0]['genotype']\n",
    "    manifest['sex'] = md['wasAttributedTo'][0]['sex']['name']\n",
    "    manifest['age'] = md['wasAttributedTo'][0]['age']['value']\n",
    "    manifest['path'] = md['path']\n",
    "    manifest['date'] = md['wasGeneratedBy'][0]['startDate']\n",
    "    \n",
    "    path = md['path']\n",
    "    s3_url = asset.get_content_url(regex='s3')\n",
    "    io = pynwb.NWBHDF5IO(s3_url, mode='r', load_namespaces=True, driver='ros3')\n",
    "    nwbfile = io.read()\n",
    "    location = nwbfile.imaging_planes['imaging_plane_1'].location\n",
    "    manifest['area'] = location.split(',')[0].split((' '))[1]\n",
    "    manifest['imaging_depth'] = location.split(',')[1].split((' '))[1]\n",
    "    return manifest\n",
    "\n",
    "result = Parallel(n_jobs=10)(delayed(to_struct)(asset_list[i]) for i in tqdm(range(number_assets)))"
   ]
  },
  {
   "cell_type": "code",
   "execution_count": null,
   "id": "201eb7b6",
   "metadata": {},
   "outputs": [],
   "source": [
    "manifest = pd.DataFrame(result)"
   ]
  },
  {
   "cell_type": "code",
   "execution_count": null,
   "id": "4795e2c5",
   "metadata": {},
   "outputs": [],
   "source": [
    "manifest.head()"
   ]
  },
  {
   "cell_type": "markdown",
   "id": "86296052",
   "metadata": {},
   "source": [
    "This dataframe has a row for each asset, describing some key metadata about the animal and recording location. We can explore the dataframe to identify assets by genotype, recording location (i.e. area), or other parameters, and find the path for each asset."
   ]
  },
  {
   "cell_type": "code",
   "execution_count": null,
   "id": "909fdbcb",
   "metadata": {},
   "outputs": [],
   "source": [
    "manifest.genotype.unique()"
   ]
  },
  {
   "cell_type": "code",
   "execution_count": null,
   "id": "f183deb4",
   "metadata": {},
   "outputs": [],
   "source": [
    "manifest.area.unique()"
   ]
  },
  {
   "cell_type": "code",
   "execution_count": null,
   "id": "ca528e4f",
   "metadata": {},
   "outputs": [],
   "source": [
    "len(manifest[manifest.sex=='Female'])"
   ]
  },
  {
   "cell_type": "code",
   "execution_count": null,
   "id": "9e2a0b78",
   "metadata": {},
   "outputs": [],
   "source": [
    "pd.pivot_table(manifest, values=['path'],columns=['area'], index=['genotype'], aggfunc='count', fill_value=0)"
   ]
  },
  {
   "cell_type": "code",
   "execution_count": null,
   "id": "607a40b5",
   "metadata": {},
   "outputs": [],
   "source": []
  }
 ],
 "metadata": {
  "jupytext": {
   "text_representation": {
    "extension": ".md",
    "format_name": "myst",
    "format_version": 0.13,
    "jupytext_version": "1.14.1"
   }
  },
  "kernelspec": {
   "display_name": "Python 3 (ipykernel)",
   "language": "python",
   "name": "python3"
  },
  "language_info": {
   "codemirror_mode": {
    "name": "ipython",
    "version": 3
   },
   "file_extension": ".py",
   "mimetype": "text/x-python",
   "name": "python",
   "nbconvert_exporter": "python",
   "pygments_lexer": "ipython3",
   "version": "3.9.14"
  },
  "source_map": [
   12,
   17,
   21,
   32,
   36,
   41,
   45,
   74,
   78,
   80,
   84,
   88,
   92,
   96,
   100
  ]
 },
 "nbformat": 4,
 "nbformat_minor": 5
}