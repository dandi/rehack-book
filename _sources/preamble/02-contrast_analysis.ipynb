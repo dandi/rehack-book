{
 "cells": [
  {
   "cell_type": "markdown",
   "id": "89796167",
   "metadata": {},
   "source": [
    "# Compute and plot contrast tuning curves\n",
    "### This notebook uses the extracted event times to calculate the tuning of individual neurons to contrast X direction."
   ]
  },
  {
   "cell_type": "code",
   "execution_count": 1,
   "id": "527cf7b1",
   "metadata": {},
   "outputs": [],
   "source": [
    "import numpy as np\n",
    "import pandas as pd\n",
    "import matplotlib.pyplot as plt\n",
    "import os\n",
    "import pynwb\n",
    "\n",
    "import warnings\n",
    "warnings.simplefilter(\"ignore\")"
   ]
  },
  {
   "cell_type": "code",
   "execution_count": 2,
   "id": "0163a2e1",
   "metadata": {},
   "outputs": [],
   "source": [
    "from dandi.dandiapi import DandiAPIClient"
   ]
  },
  {
   "cell_type": "code",
   "execution_count": 3,
   "id": "13fb0d7f",
   "metadata": {},
   "outputs": [],
   "source": [
    "savepath = 'data/'"
   ]
  },
  {
   "cell_type": "markdown",
   "id": "66f040fc",
   "metadata": {},
   "source": [
    "## Specify a session to analyze and load NWB file"
   ]
  },
  {
   "cell_type": "code",
   "execution_count": 4,
   "id": "6bd0b913",
   "metadata": {},
   "outputs": [],
   "source": [
    "session_ID = 682746585"
   ]
  },
  {
   "cell_type": "code",
   "execution_count": 5,
   "id": "22e3421d",
   "metadata": {},
   "outputs": [],
   "source": [
    "dandiset_id = '000039'\n",
    "filepath = 'sub-661968859/sub-661968859_ses-682746585_behavior+ophys.nwb' \n",
    "with DandiAPIClient() as client:\n",
    "    asset = client.get_dandiset(dandiset_id, 'draft').get_asset_by_path(filepath)\n",
    "    s3_url = asset.get_content_url(follow_redirects=1, strip_query=True)"
   ]
  },
  {
   "cell_type": "markdown",
   "id": "8ac73e94",
   "metadata": {},
   "source": [
    "## Functions to load specific data assets from the nwb file"
   ]
  },
  {
   "cell_type": "code",
   "execution_count": 6,
   "id": "f85de307",
   "metadata": {},
   "outputs": [],
   "source": [
    "def load_sweep_table(s3_url):\n",
    "    '''Creates a dataframe of the stimulus presentation table'''\n",
    "    with pynwb.NWBHDF5IO(s3_url, mode='r', load_namespaces=True, driver='ros3') as io:\n",
    "        nwbfile = io.read()\n",
    "        start_times = np.array(nwbfile.intervals['epochs']['start_time'].data)\n",
    "        stop_times = np.array(nwbfile.intervals['epochs']['stop_time'].data)\n",
    "        contrasts = np.array(nwbfile.intervals['epochs']['contrast'].data)\n",
    "        directions = np.array(nwbfile.intervals['epochs']['direction'].data)\n",
    "        SFs = np.array(nwbfile.intervals['epochs']['spatial_frequency'].data)\n",
    "        TFs = np.array(nwbfile.intervals['epochs']['temporal_frequency'].data)\n",
    "\n",
    "    df = pd.DataFrame(np.zeros((len(start_times),6)),columns=('Start','End','Contrast','Ori','SF','TF'))\n",
    "    df['Start'] = start_times\n",
    "    df['End'] = stop_times\n",
    "    df['Contrast'] = contrasts\n",
    "    df['Ori'] = directions\n",
    "    df['SF'] = SFs\n",
    "    df['TF'] = TFs\n",
    "    return df"
   ]
  },
  {
   "cell_type": "code",
   "execution_count": 7,
   "id": "6c06e5f2",
   "metadata": {},
   "outputs": [
    {
     "ename": "ValueError",
     "evalue": "h5py was built without ROS3 support, can't use ros3 driver",
     "output_type": "error",
     "traceback": [
      "\u001b[0;31m---------------------------------------------------------------------------\u001b[0m",
      "\u001b[0;31mValueError\u001b[0m                                Traceback (most recent call last)",
      "Cell \u001b[0;32mIn [7], line 1\u001b[0m\n\u001b[0;32m----> 1\u001b[0m sweep_table \u001b[38;5;241m=\u001b[39m load_sweep_table(s3_url)\n",
      "Cell \u001b[0;32mIn [6], line 3\u001b[0m, in \u001b[0;36mload_sweep_table\u001b[0;34m(s3_url)\u001b[0m\n\u001b[1;32m      1\u001b[0m \u001b[38;5;28;01mdef\u001b[39;00m \u001b[38;5;21mload_sweep_table\u001b[39m(s3_url):\n\u001b[1;32m      2\u001b[0m     \u001b[38;5;124;03m'''Creates a dataframe of the stimulus presentation table'''\u001b[39;00m\n\u001b[0;32m----> 3\u001b[0m     \u001b[38;5;28;01mwith\u001b[39;00m \u001b[43mpynwb\u001b[49m\u001b[38;5;241;43m.\u001b[39;49m\u001b[43mNWBHDF5IO\u001b[49m\u001b[43m(\u001b[49m\u001b[43ms3_url\u001b[49m\u001b[43m,\u001b[49m\u001b[43m \u001b[49m\u001b[43mmode\u001b[49m\u001b[38;5;241;43m=\u001b[39;49m\u001b[38;5;124;43m'\u001b[39;49m\u001b[38;5;124;43mr\u001b[39;49m\u001b[38;5;124;43m'\u001b[39;49m\u001b[43m,\u001b[49m\u001b[43m \u001b[49m\u001b[43mload_namespaces\u001b[49m\u001b[38;5;241;43m=\u001b[39;49m\u001b[38;5;28;43;01mTrue\u001b[39;49;00m\u001b[43m,\u001b[49m\u001b[43m \u001b[49m\u001b[43mdriver\u001b[49m\u001b[38;5;241;43m=\u001b[39;49m\u001b[38;5;124;43m'\u001b[39;49m\u001b[38;5;124;43mros3\u001b[39;49m\u001b[38;5;124;43m'\u001b[39;49m\u001b[43m)\u001b[49m \u001b[38;5;28;01mas\u001b[39;00m io:\n\u001b[1;32m      4\u001b[0m         nwbfile \u001b[38;5;241m=\u001b[39m io\u001b[38;5;241m.\u001b[39mread()\n\u001b[1;32m      5\u001b[0m         start_times \u001b[38;5;241m=\u001b[39m np\u001b[38;5;241m.\u001b[39marray(nwbfile\u001b[38;5;241m.\u001b[39mintervals[\u001b[38;5;124m'\u001b[39m\u001b[38;5;124mepochs\u001b[39m\u001b[38;5;124m'\u001b[39m][\u001b[38;5;124m'\u001b[39m\u001b[38;5;124mstart_time\u001b[39m\u001b[38;5;124m'\u001b[39m]\u001b[38;5;241m.\u001b[39mdata)\n",
      "File \u001b[0;32m/opt/hostedtoolcache/Python/3.9.14/x64/lib/python3.9/site-packages/hdmf/utils.py:645\u001b[0m, in \u001b[0;36mdocval.<locals>.dec.<locals>.func_call\u001b[0;34m(*args, **kwargs)\u001b[0m\n\u001b[1;32m    643\u001b[0m \u001b[38;5;28;01mdef\u001b[39;00m \u001b[38;5;21mfunc_call\u001b[39m(\u001b[38;5;241m*\u001b[39margs, \u001b[38;5;241m*\u001b[39m\u001b[38;5;241m*\u001b[39mkwargs):\n\u001b[1;32m    644\u001b[0m     pargs \u001b[38;5;241m=\u001b[39m _check_args(args, kwargs)\n\u001b[0;32m--> 645\u001b[0m     \u001b[38;5;28;01mreturn\u001b[39;00m \u001b[43mfunc\u001b[49m\u001b[43m(\u001b[49m\u001b[43margs\u001b[49m\u001b[43m[\u001b[49m\u001b[38;5;241;43m0\u001b[39;49m\u001b[43m]\u001b[49m\u001b[43m,\u001b[49m\u001b[43m \u001b[49m\u001b[38;5;241;43m*\u001b[39;49m\u001b[38;5;241;43m*\u001b[39;49m\u001b[43mpargs\u001b[49m\u001b[43m)\u001b[49m\n",
      "File \u001b[0;32m/opt/hostedtoolcache/Python/3.9.14/x64/lib/python3.9/site-packages/pynwb/__init__.py:230\u001b[0m, in \u001b[0;36mNWBHDF5IO.__init__\u001b[0;34m(self, **kwargs)\u001b[0m\n\u001b[1;32m    227\u001b[0m         \u001b[38;5;28;01mraise\u001b[39;00m \u001b[38;5;167;01mValueError\u001b[39;00m(\u001b[38;5;124m\"\u001b[39m\u001b[38;5;124mcannot load namespaces from file when writing to it\u001b[39m\u001b[38;5;124m\"\u001b[39m)\n\u001b[1;32m    229\u001b[0m     tm \u001b[38;5;241m=\u001b[39m get_type_map()\n\u001b[0;32m--> 230\u001b[0m     \u001b[38;5;28;43msuper\u001b[39;49m\u001b[43m(\u001b[49m\u001b[43m)\u001b[49m\u001b[38;5;241;43m.\u001b[39;49m\u001b[43mload_namespaces\u001b[49m\u001b[43m(\u001b[49m\u001b[43mtm\u001b[49m\u001b[43m,\u001b[49m\u001b[43m \u001b[49m\u001b[43mpath\u001b[49m\u001b[43m,\u001b[49m\u001b[43m \u001b[49m\u001b[43mfile\u001b[49m\u001b[38;5;241;43m=\u001b[39;49m\u001b[43mfile_obj\u001b[49m\u001b[43m,\u001b[49m\u001b[43m \u001b[49m\u001b[43mdriver\u001b[49m\u001b[38;5;241;43m=\u001b[39;49m\u001b[43mdriver\u001b[49m\u001b[43m)\u001b[49m\n\u001b[1;32m    231\u001b[0m     manager \u001b[38;5;241m=\u001b[39m BuildManager(tm)\n\u001b[1;32m    233\u001b[0m     \u001b[38;5;66;03m# XXX: Leaving this here in case we want to revert to this strategy for\u001b[39;00m\n\u001b[1;32m    234\u001b[0m     \u001b[38;5;66;03m#      loading cached namespaces\u001b[39;00m\n\u001b[1;32m    235\u001b[0m     \u001b[38;5;66;03m# ns_catalog = NamespaceCatalog(NWBGroupSpec, NWBDatasetSpec, NWBNamespace)\u001b[39;00m\n\u001b[0;32m   (...)\u001b[0m\n\u001b[1;32m    238\u001b[0m     \u001b[38;5;66;03m# tm.copy_mappers(get_type_map())\u001b[39;00m\n\u001b[1;32m    239\u001b[0m \u001b[38;5;28;01melse\u001b[39;00m:\n",
      "File \u001b[0;32m/opt/hostedtoolcache/Python/3.9.14/x64/lib/python3.9/site-packages/hdmf/utils.py:645\u001b[0m, in \u001b[0;36mdocval.<locals>.dec.<locals>.func_call\u001b[0;34m(*args, **kwargs)\u001b[0m\n\u001b[1;32m    643\u001b[0m \u001b[38;5;28;01mdef\u001b[39;00m \u001b[38;5;21mfunc_call\u001b[39m(\u001b[38;5;241m*\u001b[39margs, \u001b[38;5;241m*\u001b[39m\u001b[38;5;241m*\u001b[39mkwargs):\n\u001b[1;32m    644\u001b[0m     pargs \u001b[38;5;241m=\u001b[39m _check_args(args, kwargs)\n\u001b[0;32m--> 645\u001b[0m     \u001b[38;5;28;01mreturn\u001b[39;00m \u001b[43mfunc\u001b[49m\u001b[43m(\u001b[49m\u001b[43margs\u001b[49m\u001b[43m[\u001b[49m\u001b[38;5;241;43m0\u001b[39;49m\u001b[43m]\u001b[49m\u001b[43m,\u001b[49m\u001b[43m \u001b[49m\u001b[38;5;241;43m*\u001b[39;49m\u001b[38;5;241;43m*\u001b[39;49m\u001b[43mpargs\u001b[49m\u001b[43m)\u001b[49m\n",
      "File \u001b[0;32m/opt/hostedtoolcache/Python/3.9.14/x64/lib/python3.9/site-packages/hdmf/backends/hdf5/h5tools.py:150\u001b[0m, in \u001b[0;36mHDF5IO.load_namespaces\u001b[0;34m(cls, **kwargs)\u001b[0m\n\u001b[1;32m    139\u001b[0m \u001b[38;5;124;03m\"\"\"Load cached namespaces from a file.\u001b[39;00m\n\u001b[1;32m    140\u001b[0m \n\u001b[1;32m    141\u001b[0m \u001b[38;5;124;03mIf `file` is not supplied, then an :py:class:`h5py.File` object will be opened for the given `path`, the\u001b[39;00m\n\u001b[0;32m   (...)\u001b[0m\n\u001b[1;32m    145\u001b[0m \u001b[38;5;124;03m:raises ValueError: if both `path` and `file` are supplied but `path` is not the same as the path of `file`.\u001b[39;00m\n\u001b[1;32m    146\u001b[0m \u001b[38;5;124;03m\"\"\"\u001b[39;00m\n\u001b[1;32m    147\u001b[0m namespace_catalog, path, namespaces, file_obj, driver \u001b[38;5;241m=\u001b[39m popargs(\n\u001b[1;32m    148\u001b[0m     \u001b[38;5;124m'\u001b[39m\u001b[38;5;124mnamespace_catalog\u001b[39m\u001b[38;5;124m'\u001b[39m, \u001b[38;5;124m'\u001b[39m\u001b[38;5;124mpath\u001b[39m\u001b[38;5;124m'\u001b[39m, \u001b[38;5;124m'\u001b[39m\u001b[38;5;124mnamespaces\u001b[39m\u001b[38;5;124m'\u001b[39m, \u001b[38;5;124m'\u001b[39m\u001b[38;5;124mfile\u001b[39m\u001b[38;5;124m'\u001b[39m, \u001b[38;5;124m'\u001b[39m\u001b[38;5;124mdriver\u001b[39m\u001b[38;5;124m'\u001b[39m, kwargs)\n\u001b[0;32m--> 150\u001b[0m open_file_obj \u001b[38;5;241m=\u001b[39m \u001b[38;5;28;43mcls\u001b[39;49m\u001b[38;5;241;43m.\u001b[39;49m\u001b[43m__resolve_file_obj\u001b[49m\u001b[43m(\u001b[49m\u001b[43mpath\u001b[49m\u001b[43m,\u001b[49m\u001b[43m \u001b[49m\u001b[43mfile_obj\u001b[49m\u001b[43m,\u001b[49m\u001b[43m \u001b[49m\u001b[43mdriver\u001b[49m\u001b[43m)\u001b[49m\n\u001b[1;32m    151\u001b[0m \u001b[38;5;28;01mif\u001b[39;00m file_obj \u001b[38;5;129;01mis\u001b[39;00m \u001b[38;5;28;01mNone\u001b[39;00m:  \u001b[38;5;66;03m# need to close the file object that we just opened\u001b[39;00m\n\u001b[1;32m    152\u001b[0m     \u001b[38;5;28;01mwith\u001b[39;00m open_file_obj:\n",
      "File \u001b[0;32m/opt/hostedtoolcache/Python/3.9.14/x64/lib/python3.9/site-packages/hdmf/backends/hdf5/h5tools.py:125\u001b[0m, in \u001b[0;36mHDF5IO.__resolve_file_obj\u001b[0;34m(path, file_obj, driver)\u001b[0m\n\u001b[1;32m    123\u001b[0m     \u001b[38;5;28;01mif\u001b[39;00m driver \u001b[38;5;129;01mis\u001b[39;00m \u001b[38;5;129;01mnot\u001b[39;00m \u001b[38;5;28;01mNone\u001b[39;00m:\n\u001b[1;32m    124\u001b[0m         file_kwargs\u001b[38;5;241m.\u001b[39mupdate(driver\u001b[38;5;241m=\u001b[39mdriver)\n\u001b[0;32m--> 125\u001b[0m     file_obj \u001b[38;5;241m=\u001b[39m \u001b[43mFile\u001b[49m\u001b[43m(\u001b[49m\u001b[43mpath\u001b[49m\u001b[43m,\u001b[49m\u001b[43m \u001b[49m\u001b[38;5;124;43m'\u001b[39;49m\u001b[38;5;124;43mr\u001b[39;49m\u001b[38;5;124;43m'\u001b[39;49m\u001b[43m,\u001b[49m\u001b[43m \u001b[49m\u001b[38;5;241;43m*\u001b[39;49m\u001b[38;5;241;43m*\u001b[39;49m\u001b[43mfile_kwargs\u001b[49m\u001b[43m)\u001b[49m\n\u001b[1;32m    126\u001b[0m \u001b[38;5;28;01mreturn\u001b[39;00m file_obj\n",
      "File \u001b[0;32m/opt/hostedtoolcache/Python/3.9.14/x64/lib/python3.9/site-packages/h5py/_hl/files.py:485\u001b[0m, in \u001b[0;36mFile.__init__\u001b[0;34m(self, name, mode, driver, libver, userblock_size, swmr, rdcc_nslots, rdcc_nbytes, rdcc_w0, track_order, fs_strategy, fs_persist, fs_threshold, fs_page_size, page_buf_size, min_meta_keep, min_raw_keep, locking, alignment_threshold, alignment_interval, **kwds)\u001b[0m\n\u001b[1;32m    482\u001b[0m     \u001b[38;5;28;01mraise\u001b[39;00m \u001b[38;5;167;01mValueError\u001b[39;00m(\u001b[38;5;124m\"\u001b[39m\u001b[38;5;124mThe SWMR feature is not available in this version of the HDF5 library\u001b[39m\u001b[38;5;124m\"\u001b[39m)\n\u001b[1;32m    484\u001b[0m \u001b[38;5;28;01mif\u001b[39;00m driver \u001b[38;5;241m==\u001b[39m \u001b[38;5;124m'\u001b[39m\u001b[38;5;124mros3\u001b[39m\u001b[38;5;124m'\u001b[39m \u001b[38;5;129;01mand\u001b[39;00m \u001b[38;5;129;01mnot\u001b[39;00m ros3:\n\u001b[0;32m--> 485\u001b[0m     \u001b[38;5;28;01mraise\u001b[39;00m \u001b[38;5;167;01mValueError\u001b[39;00m(\n\u001b[1;32m    486\u001b[0m         \u001b[38;5;124m\"\u001b[39m\u001b[38;5;124mh5py was built without ROS3 support, can\u001b[39m\u001b[38;5;124m'\u001b[39m\u001b[38;5;124mt use ros3 driver\u001b[39m\u001b[38;5;124m\"\u001b[39m)\n\u001b[1;32m    488\u001b[0m \u001b[38;5;28;01mif\u001b[39;00m locking \u001b[38;5;129;01mis\u001b[39;00m \u001b[38;5;129;01mnot\u001b[39;00m \u001b[38;5;28;01mNone\u001b[39;00m \u001b[38;5;129;01mand\u001b[39;00m hdf5_version \u001b[38;5;241m<\u001b[39m (\u001b[38;5;241m1\u001b[39m, \u001b[38;5;241m12\u001b[39m, \u001b[38;5;241m1\u001b[39m) \u001b[38;5;129;01mand\u001b[39;00m (\n\u001b[1;32m    489\u001b[0m         hdf5_version[:\u001b[38;5;241m2\u001b[39m] \u001b[38;5;241m!=\u001b[39m (\u001b[38;5;241m1\u001b[39m, \u001b[38;5;241m10\u001b[39m) \u001b[38;5;129;01mor\u001b[39;00m hdf5_version[\u001b[38;5;241m2\u001b[39m] \u001b[38;5;241m<\u001b[39m \u001b[38;5;241m7\u001b[39m):\n\u001b[1;32m    490\u001b[0m     \u001b[38;5;28;01mraise\u001b[39;00m \u001b[38;5;167;01mValueError\u001b[39;00m(\u001b[38;5;124m\"\u001b[39m\u001b[38;5;124mHDF version >= 1.12.1 or 1.10.x >= 1.10.7 required for file locking options.\u001b[39m\u001b[38;5;124m\"\u001b[39m)\n",
      "\u001b[0;31mValueError\u001b[0m: h5py was built without ROS3 support, can't use ros3 driver"
     ]
    }
   ],
   "source": [
    "sweep_table = load_sweep_table(s3_url)"
   ]
  },
  {
   "cell_type": "code",
   "execution_count": null,
   "id": "af52224d",
   "metadata": {},
   "outputs": [],
   "source": [
    "sweep_table.head()"
   ]
  },
  {
   "cell_type": "markdown",
   "id": "2ab82505",
   "metadata": {},
   "source": [
    "This dataframe describes the stimulus presentation trials. The Start and End times are given in imaging frames (at 30 frames/sec). So you can see each trial has a duration of 2 seconds, with 1 second between trials, when mean luminance gray is presented. There are 8 directions (\"Ori\") of gratings and 6 Contrasts, and there are blanksweeps interleaved when Contrast, Ori, SF, TF are all NaN."
   ]
  },
  {
   "cell_type": "code",
   "execution_count": null,
   "id": "9f781731",
   "metadata": {},
   "outputs": [],
   "source": [
    "def grating_params(sweep_table):\n",
    "    '''Extracts the grating parameters from the stimulus presentation table'''\n",
    "    directions = np.sort(sweep_table.Ori.dropna().unique()).astype(int)\n",
    "    contrasts = np.sort(sweep_table.Contrast.dropna().unique())\n",
    "    \n",
    "    return directions, contrasts"
   ]
  },
  {
   "cell_type": "code",
   "execution_count": null,
   "id": "77abadbd",
   "metadata": {},
   "outputs": [],
   "source": [
    "def load_mean_sweep_events(s3_url, savepath):\n",
    "    '''Computes (or loads if already saved) an array of the mean events per neuron during each stimulus presentation'''\n",
    "    if os.path.isfile(os.path.join(savepath, str(session_ID)+'_mean_sweep_events.npy')):\n",
    "        mse = np.load(os.path.join(savepath, str(session_ID)+'_mean_sweep_events.npy'))\n",
    "    else:\n",
    "        with pynwb.NWBHDF5IO(s3_url, mode='r', load_namespaces=True, driver='ros3') as io:\n",
    "            nwbfile = io.read()\n",
    "            events = np.array(nwbfile.processing['brain_observatory_pipeline']['l0_events']['true_false_events'].data)\n",
    "            sweep_table = load_sweep_table(s3_url)\n",
    "\n",
    "            num_neurons = np.shape(events)[1]\n",
    "            num_sweeps = len(sweep_table)\n",
    "\n",
    "            mse = np.zeros((num_sweeps,num_neurons))\n",
    "            for sweep in range(num_sweeps):\n",
    "                start_frame = int(sweep_table['Start'][sweep])\n",
    "                end_frame = int(sweep_table['End'][sweep])\n",
    "                mse[sweep] = np.mean(events[start_frame:end_frame,:],axis=0)\n",
    "            os.makedirs(savepath, exist_ok=True)\n",
    "            np.save(os.path.join(savepath, str(session_ID)+'_mean_sweep_events.npy'),mse)\n",
    "    \n",
    "    return mse"
   ]
  },
  {
   "cell_type": "markdown",
   "id": "4b33d898",
   "metadata": {},
   "source": [
    "## Functions to compute tuning curve and identify peak conditions for all neurons in session"
   ]
  },
  {
   "cell_type": "code",
   "execution_count": null,
   "id": "efb34fca",
   "metadata": {},
   "outputs": [],
   "source": [
    "def compute_mean_condition_responses(sweep_table, mean_sweep_events):\n",
    "    '''Computes the mean response and SEM to each stimulus condition (i.e. each direction/contrast combination) \n",
    "    and for the blank sweeps (contrast=0)'''\n",
    "    \n",
    "    (num_sweeps,num_cells) = np.shape(mean_sweep_events) \n",
    "    \n",
    "    directions, contrasts = grating_params(sweep_table)\n",
    "    \n",
    "    condition_responses = np.zeros((num_cells,len(directions),len(contrasts)))\n",
    "    condition_sem = np.zeros((num_cells,len(directions),len(contrasts)))\n",
    "    for i_dir,direction in enumerate(directions):\n",
    "        is_direction = sweep_table['Ori'] == direction\n",
    "        for i_con,contrast in enumerate(contrasts):\n",
    "            is_contrast = sweep_table['Contrast'] == contrast\n",
    "            is_condition = (is_direction & is_contrast).values\n",
    "            \n",
    "            condition_responses[:,i_dir,i_con] = np.mean(mean_sweep_events[is_condition],axis=0)\n",
    "            condition_sem[:,i_dir,i_con] = np.std(mean_sweep_events[is_condition],axis=0)/np.sqrt(float(is_condition.sum()))\n",
    "            \n",
    "    is_blank = np.isnan(sweep_table['Ori'].values)\n",
    "    blank_sweep_responses = np.mean(mean_sweep_events[is_blank],axis=0)\n",
    "    blank_sweep_sem = np.std(mean_sweep_events[is_blank],axis=0)/np.sqrt(float(is_blank.sum()))\n",
    "            \n",
    "    return condition_responses, condition_sem, blank_sweep_responses, blank_sweep_sem"
   ]
  },
  {
   "cell_type": "code",
   "execution_count": null,
   "id": "02b3874e",
   "metadata": {},
   "outputs": [],
   "source": [
    "def get_peak_conditions(condition_responses):\n",
    "    \n",
    "    (num_cells,num_directions,num_contrasts) = np.shape(condition_responses)\n",
    "    \n",
    "    peak_direction = np.zeros((num_cells,),dtype=np.uint8)\n",
    "    peak_contrast = np.zeros((num_cells,),dtype=np.uint8)\n",
    "    for nc in range(num_cells):\n",
    "        cell_max = np.nanmax(condition_responses[nc])\n",
    "        is_max = condition_responses[nc] == cell_max\n",
    "        \n",
    "        if is_max.sum()==1:\n",
    "            (direction,contrast) = np.argwhere(is_max)[0,:]\n",
    "        else:\n",
    "            print(str(is_max.sum())+' peaks')\n",
    "            r = np.random.choice(is_max.sum())\n",
    "            (direction,contrast) = np.argwhere(is_max)\n",
    "            print(np.shape(direction))\n",
    "            direction = direction[r]\n",
    "            contrast = contrast[r]\n",
    "        peak_direction[nc] = direction\n",
    "        peak_contrast[nc] = contrast\n",
    "        \n",
    "    return peak_direction, peak_contrast"
   ]
  },
  {
   "cell_type": "markdown",
   "id": "7c1b9d4b",
   "metadata": {},
   "source": [
    "## Plot tuning curve for one cell"
   ]
  },
  {
   "cell_type": "code",
   "execution_count": null,
   "id": "21f4abfc",
   "metadata": {},
   "outputs": [],
   "source": [
    "def plot_single_cell_tuning_curves(savepath,example_cell):\n",
    "    \n",
    "    mse = 3000.0*load_mean_sweep_events(s3_url, savepath)\n",
    "    sweep_table = load_sweep_table(s3_url)\n",
    "    directions, contrasts = grating_params(sweep_table)\n",
    "\n",
    "    condition_resp, condition_SEM, blank_responses, _ = compute_mean_condition_responses(sweep_table,mse)\n",
    "    \n",
    "    #shift zero to center:\n",
    "    # directions = [-135,-90,-45,0,45,90,135,180]\n",
    "    # condition_resp = cu.center_direction_zero(condition_responses)\n",
    "    # condition_SEM = cu.center_direction_zero(condition_SEM)\n",
    "    \n",
    "    #full direction by contrast response heatmap\n",
    "    plt.figure(figsize=(7,4))\n",
    "    ax = plt.subplot2grid((5,5),(0,3),rowspan=5,colspan=2)\n",
    "    im = ax.imshow(condition_resp[example_cell],vmin=0.0,interpolation='nearest',aspect='auto',cmap='plasma')\n",
    "    ax.set_ylabel('Direction (deg)',fontsize=12)\n",
    "    ax.set_xlabel('Contrast (%)',fontsize=12)\n",
    "    ax.set_xticks(np.arange(len(contrasts)))\n",
    "    ax.set_xticklabels([str(int(100*x)) for x in contrasts],fontsize=12)\n",
    "    ax.set_yticks(np.arange(len(directions)))\n",
    "    ax.set_yticklabels([str(x) for x in directions],fontsize=12)  \n",
    "    cbar = plt.colorbar(im,ax=ax)\n",
    "    cbar.set_label('Event magnitude per second (%)',fontsize=12)\n",
    "    \n",
    "    \n",
    "    peak_dir_idx, peak_con_idx = get_peak_conditions(condition_resp)\n",
    "    \n",
    "    #contrast tuning at peak direction\n",
    "    contrast_means = condition_resp[example_cell,peak_dir_idx[example_cell],:]\n",
    "    contrast_SEMs = condition_SEM[example_cell,peak_dir_idx[example_cell],:]\n",
    "    \n",
    "    y_max = 1.1*np.max(contrast_means+contrast_SEMs)\n",
    "    \n",
    "    ax = plt.subplot2grid((5,5),(0,0),rowspan=2,colspan=2)\n",
    "    ax.errorbar(np.log(contrasts),contrast_means,contrast_SEMs,linewidth=0.7,color='b')\n",
    "    ax.plot([np.log(contrasts[0]),np.log(contrasts[-1])],[blank_responses[example_cell],blank_responses[example_cell]],linewidth=0.7,linestyle='--',color='b')\n",
    "    ax.set_xticks(np.log(contrasts))\n",
    "    ax.set_xticklabels([str(int(100*x)) for x in contrasts],fontsize=12)\n",
    "    ax.tick_params(axis='y',labelsize=12)\n",
    "    ax.set_xlabel('Contrast (%)',fontsize=12)\n",
    "    ax.set_ylabel('Event magnitude per second (%)  ',fontsize=12)\n",
    "    ax.set_ylim([0,y_max])\n",
    "    ax.spines['right'].set_visible(False)\n",
    "    ax.spines['top'].set_visible(False)\n",
    "    ax.set_title('@ '+str(directions[peak_dir_idx[example_cell]])+' degrees',fontsize=12)\n",
    "\n",
    "    #direction tuning at peak contrast\n",
    "    direction_means = condition_resp[example_cell,:,peak_con_idx[example_cell]]\n",
    "    direction_SEMs = condition_SEM[example_cell,:,peak_con_idx[example_cell]]\n",
    "    ax = plt.subplot2grid((5,5),(3,0),rowspan=2,colspan=2)\n",
    "    ax.errorbar(np.arange(len(directions)),direction_means,direction_SEMs,linewidth=0.7,color='b')\n",
    "    ax.plot([0,len(directions)-1],[blank_responses[example_cell],blank_responses[example_cell]],linestyle='--',color='b',linewidth=0.7)\n",
    "    ax.set_xlim(-0.07,7.07)\n",
    "    ax.set_xticks(np.arange(len(directions)))\n",
    "    ax.set_xticklabels([str(x) for x in directions],fontsize=12)\n",
    "    ax.tick_params(axis='y',labelsize=12)\n",
    "    \n",
    "    ax.set_xlabel('Direction (deg)',fontsize=12)\n",
    "    #ax.set_ylabel('Response',fontsize=14)\n",
    "    ax.set_ylim([0,y_max])\n",
    "    ax.spines['right'].set_visible(False)\n",
    "    ax.spines['top'].set_visible(False)\n",
    "    ax.set_title('@ '+str(int(100*contrasts[peak_con_idx[example_cell]]))+'% contrast',fontsize=12)\n",
    "    \n",
    "    \n",
    "    plt.tight_layout(w_pad=-5.5, h_pad=0.1)\n",
    "    \n",
    "    os.makedirs('figures', exist_ok=True)\n",
    "    plt.savefig(os.path.join('figures',str(session_ID)+'_cell_'+str(example_cell)+'_tuning_curves.png'),dpi=300)\n",
    "    plt.show()\n",
    "    plt.close()"
   ]
  },
  {
   "cell_type": "code",
   "execution_count": null,
   "id": "710dc239",
   "metadata": {},
   "outputs": [],
   "source": [
    "plot_single_cell_tuning_curves(savepath, 6)"
   ]
  },
  {
   "cell_type": "code",
   "execution_count": null,
   "id": "dec57d0c",
   "metadata": {},
   "outputs": [],
   "source": []
  }
 ],
 "metadata": {
  "jupytext": {
   "text_representation": {
    "extension": ".md",
    "format_name": "myst",
    "format_version": 0.13,
    "jupytext_version": "1.14.1"
   }
  },
  "kernelspec": {
   "display_name": "Python 3 (ipykernel)",
   "language": "python",
   "name": "python3"
  },
  "language_info": {
   "codemirror_mode": {
    "name": "ipython",
    "version": 3
   },
   "file_extension": ".py",
   "mimetype": "text/x-python",
   "name": "python",
   "nbconvert_exporter": "python",
   "pygments_lexer": "ipython3",
   "version": "3.9.14"
  },
  "source_map": [
   12,
   17,
   28,
   32,
   34,
   38,
   42,
   48,
   52,
   74,
   78,
   80,
   84,
   93,
   116,
   120,
   147,
   171,
   175,
   251,
   255
  ]
 },
 "nbformat": 4,
 "nbformat_minor": 5
}